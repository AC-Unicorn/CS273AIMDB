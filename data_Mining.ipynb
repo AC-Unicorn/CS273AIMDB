{
 "cells": [
  {
   "cell_type": "code",
   "execution_count": 6,
   "metadata": {},
   "outputs": [],
   "source": [
    "import os\n",
    "from sklearn.feature_extraction.text import CountVectorizer\n",
    "from sklearn.svm import LinearSVC\n",
    "from sklearn.feature_extraction.text import ENGLISH_STOP_WORDS as esw\n",
    "from sklearn.linear_model import LogisticRegression\n",
    "from sklearn.metrics import accuracy_score\n",
    "import numpy as np\n",
    "import pandas as pd"
   ]
  },
  {
   "cell_type": "code",
   "execution_count": 16,
   "metadata": {},
   "outputs": [],
   "source": [
    "class wordSpace:\n",
    "    \n",
    "    def __init__(self, rootPath):\n",
    "        \"\"\"define the whole word space\"\"\"\n",
    "        self.stopWords = [\"a\",\"the\",\"i\",\"he\",\"is\",\"am\",\"are\",\"was\",\"were\",\"of\",\"for\",\"they\",\"she\",\"it\"] + list(esw) \n",
    "        self.data = {}\n",
    "        self.vocabSize = 0\n",
    "        self.dataNum = 0\n",
    "        self.tranData, self.testData = self.loadData(rootPath)\n",
    "        print(\"the wordSpace has been created!\")\n",
    "\n",
    "    def loadData(self, root):\n",
    "        \n",
    "        for folder in ['train','test']:\n",
    "            self.data[folder] = []\n",
    "            for subf in ['pos','neg']:\n",
    "                score = 1 if subf == 'pos' else 0\n",
    "                path = os.path.join(root, folder, subf)\n",
    "                files = os.listdir(path)\n",
    "                print('loading %s' % path)\n",
    "                for file in files:\n",
    "                    with open(os.path.join(path, file), \"r\",encoding = 'ISO-8859-1') as f:\n",
    "                        content = f.read()\n",
    "                        self.data[folder].append([content, score])\n",
    "        np.random.shuffle(self.data['train'])\n",
    "        self.data[\"train\"] = pd.DataFrame(self.data[\"train\"],\n",
    "                                          columns=['text', 'sentiment'])\n",
    "\n",
    "        np.random.shuffle(self.data['test'])\n",
    "        self.data[\"test\"] = pd.DataFrame(self.data[\"test\"],\n",
    "                                    columns=['text', 'sentiment'])\n",
    "        return self.data[\"train\"], self.data[\"test\"]\n",
    "    def vectorize(self, model = None):\n",
    "        print('start vectorize')\n",
    "        self.vectorize = CountVectorizer(stop_words = self.stopWords)\n",
    "        self.training_features = self.vectorize.fit_transform(self.tranData[\"text\"])\n",
    "        self.test_features = self.vectorize.transform(self.testData[\"text\"])\n",
    "        print ('vectorize complete!')\n",
    "    def predictSVM(self):\n",
    "        # Training\n",
    "        model = LinearSVC()\n",
    "        model.fit(self.training_features, self.tranData[\"sentiment\"])\n",
    "        y_pred = model.predict(self.test_features)\n",
    "\n",
    "        # Evaluation\n",
    "        acc = accuracy_score(self.testData[\"sentiment\"], y_pred)\n",
    "        print(\"Accuracy on the IMDB dataset using SVM: {:.2f}\".format(acc * 100))\n",
    "    def predictLogistic(self):\n",
    "        log_reg = LogisticRegression(verbose=1, solver='liblinear',random_state=0, C=5, penalty='l2',max_iter=1000)\n",
    "        model = log_reg.fit(self.training_features, self.tranData[\"sentiment\"])\n",
    "        y_pred = model.predict(self.test_features)\n",
    "        # Evaluation\n",
    "        acc = accuracy_score(self.testData[\"sentiment\"], y_pred)\n",
    "        print(\"\\nAccuracy on the IMDB dataset using Logistic Regression: {:.2f}\".format(acc * 100))"
   ]
  },
  {
   "cell_type": "code",
   "execution_count": 17,
   "metadata": {},
   "outputs": [
    {
     "name": "stdout",
     "output_type": "stream",
     "text": [
      "loading ./train/pos\n",
      "loading ./train/neg\n",
      "loading ./test/pos\n",
      "loading ./test/neg\n",
      "the wordSpace has been created!\n"
     ]
    }
   ],
   "source": [
    "words = wordSpace('./')"
   ]
  },
  {
   "cell_type": "code",
   "execution_count": 18,
   "metadata": {},
   "outputs": [
    {
     "name": "stdout",
     "output_type": "stream",
     "text": [
      "start vectorize\n",
      "vectorize complete!\n"
     ]
    }
   ],
   "source": [
    "trainDataX = words.data['train']['text']\n",
    "trainDataY = words.data['train']['sentiment']\n",
    "testDataX = words.data['test']['text']\n",
    "testDataY = words.data['test']['sentiment']\n",
    "\n",
    "words.vectorize()"
   ]
  },
  {
   "cell_type": "code",
   "execution_count": 19,
   "metadata": {},
   "outputs": [
    {
     "name": "stdout",
     "output_type": "stream",
     "text": [
      "[LibLinear]\n",
      "Accuracy on the IMDB dataset using Logistic Regression: 83.84\n",
      "Accuracy on the IMDB dataset using SVM: 83.64\n"
     ]
    }
   ],
   "source": [
    "words.predictLogistic()\n",
    "words.predictSVM()"
   ]
  },
  {
   "cell_type": "code",
   "execution_count": null,
   "metadata": {},
   "outputs": [],
   "source": []
  }
 ],
 "metadata": {
  "kernelspec": {
   "display_name": "Python 3",
   "language": "python",
   "name": "python3"
  },
  "language_info": {
   "codemirror_mode": {
    "name": "ipython",
    "version": 3
   },
   "file_extension": ".py",
   "mimetype": "text/x-python",
   "name": "python",
   "nbconvert_exporter": "python",
   "pygments_lexer": "ipython3",
   "version": "3.6.7"
  }
 },
 "nbformat": 4,
 "nbformat_minor": 2
}
